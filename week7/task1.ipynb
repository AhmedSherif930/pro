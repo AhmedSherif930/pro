{
 "cells": [
  {
   "cell_type": "code",
   "execution_count": 1,
   "metadata": {},
   "outputs": [],
   "source": [
    "import requests #importing library\n",
    "\n"
   ]
  },
  {
   "cell_type": "code",
   "execution_count": 2,
   "metadata": {},
   "outputs": [],
   "source": [
    "#making requessts\n",
    "res=requests.get(\"https://api.frankfurter.app/latest?amount=1&from=USD&to=EUR\")"
   ]
  },
  {
   "cell_type": "code",
   "execution_count": 3,
   "metadata": {},
   "outputs": [],
   "source": [
    "#convert into json \n",
    "data=res.json()"
   ]
  },
  {
   "cell_type": "code",
   "execution_count": 4,
   "metadata": {},
   "outputs": [
    {
     "data": {
      "text/plain": [
       "{'amount': 1.0, 'base': 'USD', 'date': '2021-12-02', 'rates': {'EUR': 0.88191}}"
      ]
     },
     "execution_count": 4,
     "metadata": {},
     "output_type": "execute_result"
    }
   ],
   "source": [
    "data"
   ]
  },
  {
   "cell_type": "code",
   "execution_count": 5,
   "metadata": {},
   "outputs": [],
   "source": [
    "#extracting target rate\n",
    "usd=data[\"amount\"]\n",
    "rate=data[\"rates\"][\"EUR\"]"
   ]
  },
  {
   "cell_type": "code",
   "execution_count": 6,
   "metadata": {},
   "outputs": [
    {
     "name": "stdout",
     "output_type": "stream",
     "text": [
      "1.0\n",
      "0.88191\n"
     ]
    }
   ],
   "source": [
    "print(usd)\n",
    "print(rate)"
   ]
  },
  {
   "cell_type": "code",
   "execution_count": 8,
   "metadata": {},
   "outputs": [
    {
     "name": "stdout",
     "output_type": "stream",
     "text": [
      "1_dollar to euro\n",
      "2_euro to dollar\n",
      "5.0$ equal to 4.409549999999999£\n"
     ]
    }
   ],
   "source": [
    "#printing choice for operation\n",
    "print(\"1_dollar to euro\")\n",
    "print(\"2_euro to dollar\")\n",
    "#making varible for selection and read user input\n",
    "order = (input(\"select 1 or 2 : \"))\n",
    "x = float(input(\"enter amount you want to convert : \"))\n",
    "\n",
    "\n",
    "#condition to detrmine  from dollar to eur or eur to dollar\n",
    "if order == '1':\n",
    "    out = x*rate\n",
    "    print(f\"{x}$ equal to {out}£\")\n",
    "elif order == '2':\n",
    "    y == x/rate\n",
    "    print(f\"{x}£ equal to {y}$\")\n",
    "else:\n",
    "    print(\"enter valide choice\")"
   ]
  },
  {
   "cell_type": "code",
   "execution_count": null,
   "metadata": {},
   "outputs": [],
   "source": []
  },
  {
   "cell_type": "code",
   "execution_count": null,
   "metadata": {},
   "outputs": [],
   "source": []
  }
 ],
 "metadata": {
  "interpreter": {
   "hash": "f86a8c7eaaada3bf9561393c1ec5bc12463d3a2d05c142e9fa82ffe13b75ccf1"
  },
  "kernelspec": {
   "display_name": "Python 3.8.5 64-bit ('base': conda)",
   "name": "python3"
  },
  "language_info": {
   "codemirror_mode": {
    "name": "ipython",
    "version": 3
   },
   "file_extension": ".py",
   "mimetype": "text/x-python",
   "name": "python",
   "nbconvert_exporter": "python",
   "pygments_lexer": "ipython3",
   "version": "3.8.5"
  },
  "orig_nbformat": 4
 },
 "nbformat": 4,
 "nbformat_minor": 2
}
