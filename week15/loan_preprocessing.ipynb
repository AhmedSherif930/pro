{
 "cells": [
  {
   "cell_type": "code",
   "execution_count": 2,
   "metadata": {
    "collapsed": true
   },
   "outputs": [],
   "source": [
    "import pandas as pd\n",
    "import seaborn as sns"
   ]
  },
  {
   "cell_type": "code",
   "execution_count": 3,
   "outputs": [
    {
     "data": {
      "text/plain": "   credit.policy             purpose  int.rate  installment  log.annual.inc  \\\n0              1  debt_consolidation    0.1189       829.10       11.350407   \n1              1         credit_card    0.1071       228.22       11.082143   \n2              1  debt_consolidation    0.1357       366.86       10.373491   \n3              1  debt_consolidation    0.1008       162.34       11.350407   \n4              1         credit_card    0.1426       102.92       11.299732   \n5              1         credit_card    0.0788       125.13       11.904968   \n6              1  debt_consolidation    0.1496       194.02       10.714418   \n7              1           all_other    0.1114       131.22       11.002100   \n8              1    home_improvement    0.1134        87.19       11.407565   \n9              1  debt_consolidation    0.1221        84.12       10.203592   \n\n     dti  fico  days.with.cr.line  revol.bal  revol.util  inq.last.6mths  \\\n0  19.48   737        5639.958333      28854        52.1               0   \n1  14.29   707        2760.000000      33623        76.7               0   \n2  11.63   682        4710.000000       3511        25.6               1   \n3   8.10   712        2699.958333      33667        73.2               1   \n4  14.97   667        4066.000000       4740        39.5               0   \n5  16.98   727        6120.041667      50807        51.0               0   \n6   4.00   667        3180.041667       3839        76.8               0   \n7  11.08   722        5116.000000      24220        68.6               0   \n8  17.25   682        3989.000000      69909        51.1               1   \n9  10.00   707        2730.041667       5630        23.0               1   \n\n   delinq.2yrs  pub.rec  not.fully.paid  \n0            0        0               0  \n1            0        0               0  \n2            0        0               0  \n3            0        0               0  \n4            1        0               0  \n5            0        0               0  \n6            0        1               1  \n7            0        0               1  \n8            0        0               0  \n9            0        0               0  ",
      "text/html": "<div>\n<style scoped>\n    .dataframe tbody tr th:only-of-type {\n        vertical-align: middle;\n    }\n\n    .dataframe tbody tr th {\n        vertical-align: top;\n    }\n\n    .dataframe thead th {\n        text-align: right;\n    }\n</style>\n<table border=\"1\" class=\"dataframe\">\n  <thead>\n    <tr style=\"text-align: right;\">\n      <th></th>\n      <th>credit.policy</th>\n      <th>purpose</th>\n      <th>int.rate</th>\n      <th>installment</th>\n      <th>log.annual.inc</th>\n      <th>dti</th>\n      <th>fico</th>\n      <th>days.with.cr.line</th>\n      <th>revol.bal</th>\n      <th>revol.util</th>\n      <th>inq.last.6mths</th>\n      <th>delinq.2yrs</th>\n      <th>pub.rec</th>\n      <th>not.fully.paid</th>\n    </tr>\n  </thead>\n  <tbody>\n    <tr>\n      <th>0</th>\n      <td>1</td>\n      <td>debt_consolidation</td>\n      <td>0.1189</td>\n      <td>829.10</td>\n      <td>11.350407</td>\n      <td>19.48</td>\n      <td>737</td>\n      <td>5639.958333</td>\n      <td>28854</td>\n      <td>52.1</td>\n      <td>0</td>\n      <td>0</td>\n      <td>0</td>\n      <td>0</td>\n    </tr>\n    <tr>\n      <th>1</th>\n      <td>1</td>\n      <td>credit_card</td>\n      <td>0.1071</td>\n      <td>228.22</td>\n      <td>11.082143</td>\n      <td>14.29</td>\n      <td>707</td>\n      <td>2760.000000</td>\n      <td>33623</td>\n      <td>76.7</td>\n      <td>0</td>\n      <td>0</td>\n      <td>0</td>\n      <td>0</td>\n    </tr>\n    <tr>\n      <th>2</th>\n      <td>1</td>\n      <td>debt_consolidation</td>\n      <td>0.1357</td>\n      <td>366.86</td>\n      <td>10.373491</td>\n      <td>11.63</td>\n      <td>682</td>\n      <td>4710.000000</td>\n      <td>3511</td>\n      <td>25.6</td>\n      <td>1</td>\n      <td>0</td>\n      <td>0</td>\n      <td>0</td>\n    </tr>\n    <tr>\n      <th>3</th>\n      <td>1</td>\n      <td>debt_consolidation</td>\n      <td>0.1008</td>\n      <td>162.34</td>\n      <td>11.350407</td>\n      <td>8.10</td>\n      <td>712</td>\n      <td>2699.958333</td>\n      <td>33667</td>\n      <td>73.2</td>\n      <td>1</td>\n      <td>0</td>\n      <td>0</td>\n      <td>0</td>\n    </tr>\n    <tr>\n      <th>4</th>\n      <td>1</td>\n      <td>credit_card</td>\n      <td>0.1426</td>\n      <td>102.92</td>\n      <td>11.299732</td>\n      <td>14.97</td>\n      <td>667</td>\n      <td>4066.000000</td>\n      <td>4740</td>\n      <td>39.5</td>\n      <td>0</td>\n      <td>1</td>\n      <td>0</td>\n      <td>0</td>\n    </tr>\n    <tr>\n      <th>5</th>\n      <td>1</td>\n      <td>credit_card</td>\n      <td>0.0788</td>\n      <td>125.13</td>\n      <td>11.904968</td>\n      <td>16.98</td>\n      <td>727</td>\n      <td>6120.041667</td>\n      <td>50807</td>\n      <td>51.0</td>\n      <td>0</td>\n      <td>0</td>\n      <td>0</td>\n      <td>0</td>\n    </tr>\n    <tr>\n      <th>6</th>\n      <td>1</td>\n      <td>debt_consolidation</td>\n      <td>0.1496</td>\n      <td>194.02</td>\n      <td>10.714418</td>\n      <td>4.00</td>\n      <td>667</td>\n      <td>3180.041667</td>\n      <td>3839</td>\n      <td>76.8</td>\n      <td>0</td>\n      <td>0</td>\n      <td>1</td>\n      <td>1</td>\n    </tr>\n    <tr>\n      <th>7</th>\n      <td>1</td>\n      <td>all_other</td>\n      <td>0.1114</td>\n      <td>131.22</td>\n      <td>11.002100</td>\n      <td>11.08</td>\n      <td>722</td>\n      <td>5116.000000</td>\n      <td>24220</td>\n      <td>68.6</td>\n      <td>0</td>\n      <td>0</td>\n      <td>0</td>\n      <td>1</td>\n    </tr>\n    <tr>\n      <th>8</th>\n      <td>1</td>\n      <td>home_improvement</td>\n      <td>0.1134</td>\n      <td>87.19</td>\n      <td>11.407565</td>\n      <td>17.25</td>\n      <td>682</td>\n      <td>3989.000000</td>\n      <td>69909</td>\n      <td>51.1</td>\n      <td>1</td>\n      <td>0</td>\n      <td>0</td>\n      <td>0</td>\n    </tr>\n    <tr>\n      <th>9</th>\n      <td>1</td>\n      <td>debt_consolidation</td>\n      <td>0.1221</td>\n      <td>84.12</td>\n      <td>10.203592</td>\n      <td>10.00</td>\n      <td>707</td>\n      <td>2730.041667</td>\n      <td>5630</td>\n      <td>23.0</td>\n      <td>1</td>\n      <td>0</td>\n      <td>0</td>\n      <td>0</td>\n    </tr>\n  </tbody>\n</table>\n</div>"
     },
     "execution_count": 3,
     "metadata": {},
     "output_type": "execute_result"
    }
   ],
   "source": [
    "loan=pd.read_csv(\"loan_data.csv\")\n",
    "loan.head(10)"
   ],
   "metadata": {
    "collapsed": false,
    "pycharm": {
     "name": "#%%\n"
    }
   }
  },
  {
   "cell_type": "code",
   "execution_count": 4,
   "outputs": [
    {
     "data": {
      "text/plain": "       credit.policy     int.rate  installment  log.annual.inc          dti  \\\ncount    9578.000000  9578.000000  9578.000000     9578.000000  9578.000000   \nmean        0.804970     0.122640   319.089413       10.932117    12.606679   \nstd         0.396245     0.026847   207.071301        0.614813     6.883970   \nmin         0.000000     0.060000    15.670000        7.547502     0.000000   \n25%         1.000000     0.103900   163.770000       10.558414     7.212500   \n50%         1.000000     0.122100   268.950000       10.928884    12.665000   \n75%         1.000000     0.140700   432.762500       11.291293    17.950000   \nmax         1.000000     0.216400   940.140000       14.528354    29.960000   \n\n              fico  days.with.cr.line     revol.bal   revol.util  \\\ncount  9578.000000        9578.000000  9.578000e+03  9578.000000   \nmean    710.846314        4560.767197  1.691396e+04    46.799236   \nstd      37.970537        2496.930377  3.375619e+04    29.014417   \nmin     612.000000         178.958333  0.000000e+00     0.000000   \n25%     682.000000        2820.000000  3.187000e+03    22.600000   \n50%     707.000000        4139.958333  8.596000e+03    46.300000   \n75%     737.000000        5730.000000  1.824950e+04    70.900000   \nmax     827.000000       17639.958330  1.207359e+06   119.000000   \n\n       inq.last.6mths  delinq.2yrs      pub.rec  not.fully.paid  \ncount     9578.000000  9578.000000  9578.000000     9578.000000  \nmean         1.577469     0.163708     0.062122        0.160054  \nstd          2.200245     0.546215     0.262126        0.366676  \nmin          0.000000     0.000000     0.000000        0.000000  \n25%          0.000000     0.000000     0.000000        0.000000  \n50%          1.000000     0.000000     0.000000        0.000000  \n75%          2.000000     0.000000     0.000000        0.000000  \nmax         33.000000    13.000000     5.000000        1.000000  ",
      "text/html": "<div>\n<style scoped>\n    .dataframe tbody tr th:only-of-type {\n        vertical-align: middle;\n    }\n\n    .dataframe tbody tr th {\n        vertical-align: top;\n    }\n\n    .dataframe thead th {\n        text-align: right;\n    }\n</style>\n<table border=\"1\" class=\"dataframe\">\n  <thead>\n    <tr style=\"text-align: right;\">\n      <th></th>\n      <th>credit.policy</th>\n      <th>int.rate</th>\n      <th>installment</th>\n      <th>log.annual.inc</th>\n      <th>dti</th>\n      <th>fico</th>\n      <th>days.with.cr.line</th>\n      <th>revol.bal</th>\n      <th>revol.util</th>\n      <th>inq.last.6mths</th>\n      <th>delinq.2yrs</th>\n      <th>pub.rec</th>\n      <th>not.fully.paid</th>\n    </tr>\n  </thead>\n  <tbody>\n    <tr>\n      <th>count</th>\n      <td>9578.000000</td>\n      <td>9578.000000</td>\n      <td>9578.000000</td>\n      <td>9578.000000</td>\n      <td>9578.000000</td>\n      <td>9578.000000</td>\n      <td>9578.000000</td>\n      <td>9.578000e+03</td>\n      <td>9578.000000</td>\n      <td>9578.000000</td>\n      <td>9578.000000</td>\n      <td>9578.000000</td>\n      <td>9578.000000</td>\n    </tr>\n    <tr>\n      <th>mean</th>\n      <td>0.804970</td>\n      <td>0.122640</td>\n      <td>319.089413</td>\n      <td>10.932117</td>\n      <td>12.606679</td>\n      <td>710.846314</td>\n      <td>4560.767197</td>\n      <td>1.691396e+04</td>\n      <td>46.799236</td>\n      <td>1.577469</td>\n      <td>0.163708</td>\n      <td>0.062122</td>\n      <td>0.160054</td>\n    </tr>\n    <tr>\n      <th>std</th>\n      <td>0.396245</td>\n      <td>0.026847</td>\n      <td>207.071301</td>\n      <td>0.614813</td>\n      <td>6.883970</td>\n      <td>37.970537</td>\n      <td>2496.930377</td>\n      <td>3.375619e+04</td>\n      <td>29.014417</td>\n      <td>2.200245</td>\n      <td>0.546215</td>\n      <td>0.262126</td>\n      <td>0.366676</td>\n    </tr>\n    <tr>\n      <th>min</th>\n      <td>0.000000</td>\n      <td>0.060000</td>\n      <td>15.670000</td>\n      <td>7.547502</td>\n      <td>0.000000</td>\n      <td>612.000000</td>\n      <td>178.958333</td>\n      <td>0.000000e+00</td>\n      <td>0.000000</td>\n      <td>0.000000</td>\n      <td>0.000000</td>\n      <td>0.000000</td>\n      <td>0.000000</td>\n    </tr>\n    <tr>\n      <th>25%</th>\n      <td>1.000000</td>\n      <td>0.103900</td>\n      <td>163.770000</td>\n      <td>10.558414</td>\n      <td>7.212500</td>\n      <td>682.000000</td>\n      <td>2820.000000</td>\n      <td>3.187000e+03</td>\n      <td>22.600000</td>\n      <td>0.000000</td>\n      <td>0.000000</td>\n      <td>0.000000</td>\n      <td>0.000000</td>\n    </tr>\n    <tr>\n      <th>50%</th>\n      <td>1.000000</td>\n      <td>0.122100</td>\n      <td>268.950000</td>\n      <td>10.928884</td>\n      <td>12.665000</td>\n      <td>707.000000</td>\n      <td>4139.958333</td>\n      <td>8.596000e+03</td>\n      <td>46.300000</td>\n      <td>1.000000</td>\n      <td>0.000000</td>\n      <td>0.000000</td>\n      <td>0.000000</td>\n    </tr>\n    <tr>\n      <th>75%</th>\n      <td>1.000000</td>\n      <td>0.140700</td>\n      <td>432.762500</td>\n      <td>11.291293</td>\n      <td>17.950000</td>\n      <td>737.000000</td>\n      <td>5730.000000</td>\n      <td>1.824950e+04</td>\n      <td>70.900000</td>\n      <td>2.000000</td>\n      <td>0.000000</td>\n      <td>0.000000</td>\n      <td>0.000000</td>\n    </tr>\n    <tr>\n      <th>max</th>\n      <td>1.000000</td>\n      <td>0.216400</td>\n      <td>940.140000</td>\n      <td>14.528354</td>\n      <td>29.960000</td>\n      <td>827.000000</td>\n      <td>17639.958330</td>\n      <td>1.207359e+06</td>\n      <td>119.000000</td>\n      <td>33.000000</td>\n      <td>13.000000</td>\n      <td>5.000000</td>\n      <td>1.000000</td>\n    </tr>\n  </tbody>\n</table>\n</div>"
     },
     "execution_count": 4,
     "metadata": {},
     "output_type": "execute_result"
    }
   ],
   "source": [
    "loan.describe()"
   ],
   "metadata": {
    "collapsed": false,
    "pycharm": {
     "name": "#%%\n"
    }
   }
  },
  {
   "cell_type": "code",
   "execution_count": 5,
   "outputs": [
    {
     "name": "stdout",
     "output_type": "stream",
     "text": [
      "<class 'pandas.core.frame.DataFrame'>\n",
      "RangeIndex: 9578 entries, 0 to 9577\n",
      "Data columns (total 14 columns):\n",
      " #   Column             Non-Null Count  Dtype  \n",
      "---  ------             --------------  -----  \n",
      " 0   credit.policy      9578 non-null   int64  \n",
      " 1   purpose            9578 non-null   object \n",
      " 2   int.rate           9578 non-null   float64\n",
      " 3   installment        9578 non-null   float64\n",
      " 4   log.annual.inc     9578 non-null   float64\n",
      " 5   dti                9578 non-null   float64\n",
      " 6   fico               9578 non-null   int64  \n",
      " 7   days.with.cr.line  9578 non-null   float64\n",
      " 8   revol.bal          9578 non-null   int64  \n",
      " 9   revol.util         9578 non-null   float64\n",
      " 10  inq.last.6mths     9578 non-null   int64  \n",
      " 11  delinq.2yrs        9578 non-null   int64  \n",
      " 12  pub.rec            9578 non-null   int64  \n",
      " 13  not.fully.paid     9578 non-null   int64  \n",
      "dtypes: float64(6), int64(7), object(1)\n",
      "memory usage: 1.0+ MB\n"
     ]
    }
   ],
   "source": [
    "loan.info()"
   ],
   "metadata": {
    "collapsed": false,
    "pycharm": {
     "name": "#%%\n"
    }
   }
  },
  {
   "cell_type": "code",
   "execution_count": 6,
   "outputs": [
    {
     "data": {
      "text/plain": "1    7710\n0    1868\nName: credit.policy, dtype: int64"
     },
     "execution_count": 6,
     "metadata": {},
     "output_type": "execute_result"
    }
   ],
   "source": [
    "loan['credit.policy'].value_counts()"
   ],
   "metadata": {
    "collapsed": false,
    "pycharm": {
     "name": "#%%\n"
    }
   }
  },
  {
   "cell_type": "code",
   "execution_count": 7,
   "outputs": [
    {
     "data": {
      "text/plain": "<AxesSubplot:xlabel='purpose', ylabel='credit.policy'>"
     },
     "execution_count": 7,
     "metadata": {},
     "output_type": "execute_result"
    },
    {
     "data": {
      "text/plain": "<Figure size 432x288 with 1 Axes>",
      "image/png": "[encoded data removed]"
     },
     "metadata": {
      "needs_background": "light"
     },
     "output_type": "display_data"
    }
   ],
   "source": [
    "sns.barplot(y=loan['credit.policy'],x=loan['purpose'])"
   ],
   "metadata": {
    "collapsed": false,
    "pycharm": {
     "name": "#%%\n"
    }
   }
  },
  {
   "cell_type": "code",
   "execution_count": 8,
   "outputs": [
    {
     "data": {
      "text/plain": "credit.policy        0\npurpose              0\nint.rate             0\ninstallment          0\nlog.annual.inc       0\ndti                  0\nfico                 0\ndays.with.cr.line    0\nrevol.bal            0\nrevol.util           0\ninq.last.6mths       0\ndelinq.2yrs          0\npub.rec              0\nnot.fully.paid       0\ndtype: int64"
     },
     "execution_count": 8,
     "metadata": {},
     "output_type": "execute_result"
    }
   ],
   "source": [
    "loan.isnull().sum()"
   ],
   "metadata": {
    "collapsed": false,
    "pycharm": {
     "name": "#%%\n"
    }
   }
  },
  {
   "cell_type": "code",
   "execution_count": 9,
   "outputs": [
    {
     "name": "stdout",
     "output_type": "stream",
     "text": [
      "Requirement already satisfied: datasist in c:\\users\\ahmed\\anaconda3\\lib\\site-packages (1.5.3)\n",
      "Requirement already satisfied: matplotlib in c:\\users\\ahmed\\anaconda3\\lib\\site-packages (from datasist) (3.4.3)\n",
      "Requirement already satisfied: Joblib in c:\\users\\ahmed\\anaconda3\\lib\\site-packages (from datasist) (1.1.0)\n",
      "Requirement already satisfied: scikit-learn in c:\\users\\ahmed\\anaconda3\\lib\\site-packages (from datasist) (0.24.2)\n",
      "Requirement already satisfied: seaborn in c:\\users\\ahmed\\anaconda3\\lib\\site-packages (from datasist) (0.11.2)\n",
      "Requirement already satisfied: jupyter in c:\\users\\ahmed\\anaconda3\\lib\\site-packages (from datasist) (1.0.0)\n",
      "Requirement already satisfied: nltk in c:\\users\\ahmed\\anaconda3\\lib\\site-packages (from datasist) (3.6.5)\n",
      "Requirement already satisfied: pandas in c:\\users\\ahmed\\anaconda3\\lib\\site-packages (from datasist) (1.3.4)\n",
      "Requirement already satisfied: numpy in c:\\users\\ahmed\\anaconda3\\lib\\site-packages (from datasist) (1.20.3)\n",
      "Requirement already satisfied: nbconvert in c:\\users\\ahmed\\anaconda3\\lib\\site-packages (from jupyter->datasist) (6.1.0)\n",
      "Requirement already satisfied: jupyter-console in c:\\users\\ahmed\\anaconda3\\lib\\site-packages (from jupyter->datasist) (6.4.0)\n",
      "Requirement already satisfied: ipykernel in c:\\users\\ahmed\\appdata\\roaming\\python\\python39\\site-packages (from jupyter->datasist) (5.5.0)\n",
      "Requirement already satisfied: qtconsole in c:\\users\\ahmed\\anaconda3\\lib\\site-packages (from jupyter->datasist) (5.1.1)\n",
      "Requirement already satisfied: notebook in c:\\users\\ahmed\\anaconda3\\lib\\site-packages (from jupyter->datasist) (6.4.5)\n",
      "Requirement already satisfied: ipywidgets in c:\\users\\ahmed\\anaconda3\\lib\\site-packages (from jupyter->datasist) (7.6.5)\n",
      "Requirement already satisfied: tornado>=4.2 in c:\\users\\ahmed\\appdata\\roaming\\python\\python39\\site-packages (from ipykernel->jupyter->datasist) (6.1)\n",
      "Requirement already satisfied: ipython>=5.0.0 in c:\\users\\ahmed\\appdata\\roaming\\python\\python39\\site-packages (from ipykernel->jupyter->datasist) (7.21.0)\n",
      "Requirement already satisfied: traitlets>=4.1.0 in c:\\users\\ahmed\\appdata\\roaming\\python\\python39\\site-packages (from ipykernel->jupyter->datasist) (5.0.5)\n",
      "Requirement already satisfied: jupyter-client in c:\\users\\ahmed\\appdata\\roaming\\python\\python39\\site-packages (from ipykernel->jupyter->datasist) (6.1.11)\n",
      "Requirement already satisfied: prompt-toolkit!=3.0.0,!=3.0.1,<3.1.0,>=2.0.0 in c:\\users\\ahmed\\appdata\\roaming\\python\\python39\\site-packages (from ipython>=5.0.0->ipykernel->jupyter->datasist) (3.0.16)\n",
      "Requirement already satisfied: decorator in c:\\users\\ahmed\\appdata\\roaming\\python\\python39\\site-packages (from ipython>=5.0.0->ipykernel->jupyter->datasist) (4.4.2)\n",
      "Requirement already satisfied: pygments in c:\\users\\ahmed\\appdata\\roaming\\python\\python39\\site-packages (from ipython>=5.0.0->ipykernel->jupyter->datasist) (2.8.0)\n",
      "Requirement already satisfied: backcall in c:\\users\\ahmed\\appdata\\roaming\\python\\python39\\site-packages (from ipython>=5.0.0->ipykernel->jupyter->datasist) (0.2.0)\n",
      "Requirement already satisfied: setuptools>=18.5 in c:\\users\\ahmed\\anaconda3\\lib\\site-packages (from ipython>=5.0.0->ipykernel->jupyter->datasist) (58.0.4)\n",
      "Requirement already satisfied: colorama in c:\\users\\ahmed\\appdata\\roaming\\python\\python39\\site-packages (from ipython>=5.0.0->ipykernel->jupyter->datasist) (0.4.4)\n",
      "Requirement already satisfied: pickleshare in c:\\users\\ahmed\\appdata\\roaming\\python\\python39\\site-packages (from ipython>=5.0.0->ipykernel->jupyter->datasist) (0.7.5)\n",
      "Requirement already satisfied: jedi>=0.16 in c:\\users\\ahmed\\appdata\\roaming\\python\\python39\\site-packages (from ipython>=5.0.0->ipykernel->jupyter->datasist) (0.18.0)\n",
      "Requirement already satisfied: parso<0.9.0,>=0.8.0 in c:\\users\\ahmed\\appdata\\roaming\\python\\python39\\site-packages (from jedi>=0.16->ipython>=5.0.0->ipykernel->jupyter->datasist) (0.8.1)\n",
      "Requirement already satisfied: wcwidth in c:\\users\\ahmed\\appdata\\roaming\\python\\python39\\site-packages (from prompt-toolkit!=3.0.0,!=3.0.1,<3.1.0,>=2.0.0->ipython>=5.0.0->ipykernel->jupyter->datasist) (0.2.5)\n",
      "Requirement already satisfied: ipython-genutils in c:\\users\\ahmed\\appdata\\roaming\\python\\python39\\site-packages (from traitlets>=4.1.0->ipykernel->jupyter->datasist) (0.2.0)\n",
      "Requirement already satisfied: widgetsnbextension~=3.5.0 in c:\\users\\ahmed\\anaconda3\\lib\\site-packages (from ipywidgets->jupyter->datasist) (3.5.1)\n",
      "Requirement already satisfied: nbformat>=4.2.0 in c:\\users\\ahmed\\anaconda3\\lib\\site-packages (from ipywidgets->jupyter->datasist) (5.1.3)\n",
      "Requirement already satisfied: jupyterlab-widgets>=1.0.0 in c:\\users\\ahmed\\anaconda3\\lib\\site-packages (from ipywidgets->jupyter->datasist) (1.0.0)\n",
      "Requirement already satisfied: jupyter-core in c:\\users\\ahmed\\appdata\\roaming\\python\\python39\\site-packages (from nbformat>=4.2.0->ipywidgets->jupyter->datasist) (4.7.1)\n",
      "Requirement already satisfied: jsonschema!=2.5.0,>=2.4 in c:\\users\\ahmed\\anaconda3\\lib\\site-packages (from nbformat>=4.2.0->ipywidgets->jupyter->datasist) (3.2.0)\n",
      "Requirement already satisfied: six>=1.11.0 in c:\\users\\ahmed\\appdata\\roaming\\python\\python39\\site-packages (from jsonschema!=2.5.0,>=2.4->nbformat>=4.2.0->ipywidgets->jupyter->datasist) (1.15.0)\n",
      "Requirement already satisfied: attrs>=17.4.0 in c:\\users\\ahmed\\anaconda3\\lib\\site-packages (from jsonschema!=2.5.0,>=2.4->nbformat>=4.2.0->ipywidgets->jupyter->datasist) (21.2.0)\n",
      "Requirement already satisfied: pyrsistent>=0.14.0 in c:\\users\\ahmed\\anaconda3\\lib\\site-packages (from jsonschema!=2.5.0,>=2.4->nbformat>=4.2.0->ipywidgets->jupyter->datasist) (0.18.0)\n",
      "Requirement already satisfied: terminado>=0.8.3 in c:\\users\\ahmed\\anaconda3\\lib\\site-packages (from notebook->jupyter->datasist) (0.9.4)\n",
      "Requirement already satisfied: jinja2 in c:\\users\\ahmed\\anaconda3\\lib\\site-packages (from notebook->jupyter->datasist) (2.11.3)\n",
      "Requirement already satisfied: pyzmq>=17 in c:\\users\\ahmed\\appdata\\roaming\\python\\python39\\site-packages (from notebook->jupyter->datasist) (22.0.3)\n",
      "Requirement already satisfied: prometheus-client in c:\\users\\ahmed\\anaconda3\\lib\\site-packages (from notebook->jupyter->datasist) (0.11.0)\n",
      "Requirement already satisfied: argon2-cffi in c:\\users\\ahmed\\anaconda3\\lib\\site-packages (from notebook->jupyter->datasist) (20.1.0)\n",
      "Requirement already satisfied: Send2Trash>=1.5.0 in c:\\users\\ahmed\\anaconda3\\lib\\site-packages (from notebook->jupyter->datasist) (1.8.0)\n",
      "Requirement already satisfied: python-dateutil>=2.1 in c:\\users\\ahmed\\appdata\\roaming\\python\\python39\\site-packages (from jupyter-client->ipykernel->jupyter->datasist) (2.8.1)\n",
      "Requirement already satisfied: pywin32>=1.0 in c:\\users\\ahmed\\appdata\\roaming\\python\\python39\\site-packages (from jupyter-core->nbformat>=4.2.0->ipywidgets->jupyter->datasist) (300)\n",
      "Requirement already satisfied: pywinpty>=0.5 in c:\\users\\ahmed\\anaconda3\\lib\\site-packages (from terminado>=0.8.3->notebook->jupyter->datasist) (0.5.7)\n",
      "Requirement already satisfied: cffi>=1.0.0 in c:\\users\\ahmed\\anaconda3\\lib\\site-packages (from argon2-cffi->notebook->jupyter->datasist) (1.14.6)\n",
      "Requirement already satisfied: pycparser in c:\\users\\ahmed\\anaconda3\\lib\\site-packages (from cffi>=1.0.0->argon2-cffi->notebook->jupyter->datasist) (2.20)\n",
      "Requirement already satisfied: MarkupSafe>=0.23 in c:\\users\\ahmed\\anaconda3\\lib\\site-packages (from jinja2->notebook->jupyter->datasist) (1.1.1)\n",
      "Requirement already satisfied: cycler>=0.10 in c:\\users\\ahmed\\anaconda3\\lib\\site-packages (from matplotlib->datasist) (0.10.0)\n",
      "Requirement already satisfied: kiwisolver>=1.0.1 in c:\\users\\ahmed\\anaconda3\\lib\\site-packages (from matplotlib->datasist) (1.3.1)\n",
      "Requirement already satisfied: pyparsing>=2.2.1 in c:\\users\\ahmed\\anaconda3\\lib\\site-packages (from matplotlib->datasist) (3.0.4)\n",
      "Requirement already satisfied: pillow>=6.2.0 in c:\\users\\ahmed\\anaconda3\\lib\\site-packages (from matplotlib->datasist) (8.4.0)\n",
      "Requirement already satisfied: defusedxml in c:\\users\\ahmed\\anaconda3\\lib\\site-packages (from nbconvert->jupyter->datasist) (0.7.1)\n",
      "Requirement already satisfied: testpath in c:\\users\\ahmed\\anaconda3\\lib\\site-packages (from nbconvert->jupyter->datasist) (0.5.0)\n",
      "Requirement already satisfied: mistune<2,>=0.8.1 in c:\\users\\ahmed\\anaconda3\\lib\\site-packages (from nbconvert->jupyter->datasist) (0.8.4)\n",
      "Requirement already satisfied: entrypoints>=0.2.2 in c:\\users\\ahmed\\anaconda3\\lib\\site-packages (from nbconvert->jupyter->datasist) (0.3)\n",
      "Requirement already satisfied: nbclient<0.6.0,>=0.5.0 in c:\\users\\ahmed\\anaconda3\\lib\\site-packages (from nbconvert->jupyter->datasist) (0.5.3)\n",
      "Requirement already satisfied: bleach in c:\\users\\ahmed\\anaconda3\\lib\\site-packages (from nbconvert->jupyter->datasist) (4.0.0)\n",
      "Requirement already satisfied: pandocfilters>=1.4.1 in c:\\users\\ahmed\\anaconda3\\lib\\site-packages (from nbconvert->jupyter->datasist) (1.4.3)\n",
      "Requirement already satisfied: jupyterlab-pygments in c:\\users\\ahmed\\anaconda3\\lib\\site-packages (from nbconvert->jupyter->datasist) (0.1.2)\n",
      "Requirement already satisfied: async-generator in c:\\users\\ahmed\\anaconda3\\lib\\site-packages (from nbclient<0.6.0,>=0.5.0->nbconvert->jupyter->datasist) (1.10)\n",
      "Requirement already satisfied: nest-asyncio in c:\\users\\ahmed\\anaconda3\\lib\\site-packages (from nbclient<0.6.0,>=0.5.0->nbconvert->jupyter->datasist) (1.5.1)\n",
      "Requirement already satisfied: packaging in c:\\users\\ahmed\\anaconda3\\lib\\site-packages (from bleach->nbconvert->jupyter->datasist) (21.0)\n",
      "Requirement already satisfied: webencodings in c:\\users\\ahmed\\anaconda3\\lib\\site-packages (from bleach->nbconvert->jupyter->datasist) (0.5.1)\n",
      "Requirement already satisfied: click in c:\\users\\ahmed\\anaconda3\\lib\\site-packages (from nltk->datasist) (8.0.3)\n",
      "Requirement already satisfied: regex>=2021.8.3 in c:\\users\\ahmed\\anaconda3\\lib\\site-packages (from nltk->datasist) (2021.8.3)\n",
      "Requirement already satisfied: tqdm in c:\\users\\ahmed\\anaconda3\\lib\\site-packages (from nltk->datasist) (4.62.3)\n",
      "Requirement already satisfied: pytz>=2017.3 in c:\\users\\ahmed\\anaconda3\\lib\\site-packages (from pandas->datasist) (2021.3)\n",
      "Requirement already satisfied: qtpy in c:\\users\\ahmed\\anaconda3\\lib\\site-packages (from qtconsole->jupyter->datasist) (1.10.0)\n",
      "Requirement already satisfied: threadpoolctl>=2.0.0 in c:\\users\\ahmed\\anaconda3\\lib\\site-packages (from scikit-learn->datasist) (2.2.0)\n",
      "Requirement already satisfied: scipy>=0.19.1 in c:\\users\\ahmed\\anaconda3\\lib\\site-packages (from scikit-learn->datasist) (1.7.1)\n"
     ]
    }
   ],
   "source": [
    "!pip install datasist"
   ],
   "metadata": {
    "collapsed": false,
    "pycharm": {
     "name": "#%%\n"
    }
   }
  },
  {
   "cell_type": "code",
   "source": [
    "from datasist.structdata import detect_outliers"
   ],
   "metadata": {
    "collapsed": false,
    "pycharm": {
     "name": "#%%\n"
    }
   },
   "execution_count": 10,
   "outputs": []
  },
  {
   "cell_type": "code",
   "execution_count": 11,
   "outputs": [
    {
     "data": {
      "text/plain": "Index(['credit.policy', 'purpose', 'int.rate', 'installment', 'log.annual.inc',\n       'dti', 'fico', 'days.with.cr.line', 'revol.bal', 'revol.util',\n       'inq.last.6mths', 'delinq.2yrs', 'pub.rec', 'not.fully.paid'],\n      dtype='object')"
     },
     "execution_count": 11,
     "metadata": {},
     "output_type": "execute_result"
    }
   ],
   "source": [
    "loan.columns"
   ],
   "metadata": {
    "collapsed": false,
    "pycharm": {
     "name": "#%%\n"
    }
   }
  },
  {
   "cell_type": "code",
   "execution_count": 12,
   "outputs": [],
   "source": [
    "ckec_col=['credit.policy', 'int.rate', 'installment', 'log.annual.inc',\n",
    "       'dti', 'fico', 'days.with.cr.line', 'revol.bal', 'revol.util',\n",
    "       'inq.last.6mths', 'delinq.2yrs', 'pub.rec', 'not.fully.paid']"
   ],
   "metadata": {
    "collapsed": false,
    "pycharm": {
     "name": "#%%\n"
    }
   }
  },
  {
   "cell_type": "code",
   "execution_count": 13,
   "outputs": [
    {
     "name": "stderr",
     "output_type": "stream",
     "text": [
      "C:\\Users\\Ahmed\\anaconda3\\lib\\site-packages\\pandas\\core\\indexing.py:1732: SettingWithCopyWarning: \n",
      "A value is trying to be set on a copy of a slice from a DataFrame\n",
      "\n",
      "See the caveats in the documentation: https://pandas.pydata.org/pandas-docs/stable/user_guide/indexing.html#returning-a-view-versus-a-copy\n",
      "  self._setitem_single_block(indexer, value, name)\n"
     ]
    }
   ],
   "source": [
    "for col in ckec_col:\n",
    "       outliar_indeced=detect_outliers(loan,0,[col])\n",
    "       col_median=loan[col].median()\n",
    "       loan[col].iloc[outliar_indeced]=col_median"
   ],
   "metadata": {
    "collapsed": false,
    "pycharm": {
     "name": "#%%\n"
    }
   }
  },
  {
   "cell_type": "code",
   "execution_count": 14,
   "outputs": [],
   "source": [
    "loan=pd.get_dummies(loan,columns=['purpose'],drop_first=True)"
   ],
   "metadata": {
    "collapsed": false,
    "pycharm": {
     "name": "#%%\n"
    }
   }
  },
  {
   "cell_type": "code",
   "execution_count": 15,
   "outputs": [
    {
     "data": {
      "text/plain": "(9578, 19)"
     },
     "execution_count": 15,
     "metadata": {},
     "output_type": "execute_result"
    }
   ],
   "source": [
    "loan.shape"
   ],
   "metadata": {
    "collapsed": false,
    "pycharm": {
     "name": "#%%\n"
    }
   }
  },
  {
   "cell_type": "code",
   "execution_count": 16,
   "outputs": [],
   "source": [
    "x=loan.drop('not.fully.paid',axis=1)\n",
    "y=loan['not.fully.paid']"
   ],
   "metadata": {
    "collapsed": false,
    "pycharm": {
     "name": "#%%\n"
    }
   }
  },
  {
   "cell_type": "code",
   "execution_count": 17,
   "outputs": [],
   "source": [
    "from sklearn.model_selection import train_test_split"
   ],
   "metadata": {
    "collapsed": false,
    "pycharm": {
     "name": "#%%\n"
    }
   }
  },
  {
   "cell_type": "code",
   "execution_count": 18,
   "outputs": [],
   "source": [
    "x_train,x_test,y_train,y_test=train_test_split(x,y,test_size=0.20,random_state=123)"
   ],
   "metadata": {
    "collapsed": false,
    "pycharm": {
     "name": "#%%\n"
    }
   }
  },
  {
   "cell_type": "code",
   "execution_count": null,
   "outputs": [],
   "source": [],
   "metadata": {
    "collapsed": false,
    "pycharm": {
     "name": "#%%\n"
    }
   }
  }
 ],
 "metadata": {
  "kernelspec": {
   "display_name": "Python 3",
   "language": "python",
   "name": "python3"
  },
  "language_info": {
   "codemirror_mode": {
    "name": "ipython",
    "version": 2
   },
   "file_extension": ".py",
   "mimetype": "text/x-python",
   "name": "python",
   "nbconvert_exporter": "python",
   "pygments_lexer": "ipython2",
   "version": "2.7.6"
  }
 },
 "nbformat": 4,
 "nbformat_minor": 0
}